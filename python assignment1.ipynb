{
 "cells": [
  {
   "cell_type": "markdown",
   "id": "7e6c00d2",
   "metadata": {},
   "source": [
    "Q1.Write a program which will find all such numbers which are didvisible by 7 but are not a multiple of 5,between 2000 and 3200 (both included). The numbers obtained should be printed in a comma-seperated sequence on a single line."
   ]
  },
  {
   "cell_type": "code",
   "execution_count": 4,
   "id": "7b848c77",
   "metadata": {},
   "outputs": [
    {
     "name": "stdout",
     "output_type": "stream",
     "text": [
      "2002,2009,2016,2023,2037,2044,2051,2058,2072,2079,2086,2093,2107,2114,2121,2128,2142,2149,2156,2163,2177,2184,2191,2198,2212,2219,2226,2233,2247,2254,2261,2268,2282,2289,2296,2303,2317,2324,2331,2338,2352,2359,2366,2373,2387,2394,2401,2408,2422,2429,2436,2443,2457,2464,2471,2478,2492,2499,2506,2513,2527,2534,2541,2548,2562,2569,2576,2583,2597,2604,2611,2618,2632,2639,2646,2653,2667,2674,2681,2688,2702,2709,2716,2723,2737,2744,2751,2758,2772,2779,2786,2793,2807,2814,2821,2828,2842,2849,2856,2863,2877,2884,2891,2898,2912,2919,2926,2933,2947,2954,2961,2968,2982,2989,2996\n"
     ]
    }
   ],
   "source": [
    "# upto 3001 because of upper bound\n",
    "output = []\n",
    "for i in range(2000,3001):\n",
    "    if(i % 7 == 0 and i % 5 !=0 ):\n",
    "        output.append(i)\n",
    "print(*output,sep = \",\")"
   ]
  },
  {
   "cell_type": "markdown",
   "id": "658136c5",
   "metadata": {},
   "source": [
    "Q2.Write a program to accept the user's first and last name and then getting them printed in the reverse order with a space between first and last name"
   ]
  },
  {
   "cell_type": "code",
   "execution_count": 96,
   "id": "a12744b8",
   "metadata": {},
   "outputs": [
    {
     "name": "stdout",
     "output_type": "stream",
     "text": [
      "hello\n",
      "world\n",
      "olleh dlrow\n"
     ]
    }
   ],
   "source": [
    "first_name = input()\n",
    "last_name = input()\n",
    "print(first_name[-1:-(len(first_name)+1):-1],last_name[-1:-(len(last_name)+1):-1])"
   ]
  },
  {
   "cell_type": "markdown",
   "id": "a205daaf",
   "metadata": {},
   "source": [
    "Q3.Write a pythin program to find the vilume of a sphere with diameter 12 cm.\n",
    "    formula = V = 4/3 * pie * r^3"
   ]
  },
  {
   "cell_type": "code",
   "execution_count": 130,
   "id": "00511bdc",
   "metadata": {},
   "outputs": [
    {
     "name": "stdout",
     "output_type": "stream",
     "text": [
      "volume of sphere 7234.56\n"
     ]
    }
   ],
   "source": [
    "pie = 3.14\n",
    "radius = 12\n",
    "volume = (4/3)*pie*(radius**3)\n",
    "print(\"volume of sphere {0:.2f}\".format(volume))"
   ]
  },
  {
   "cell_type": "code",
   "execution_count": null,
   "id": "78ed0811",
   "metadata": {},
   "outputs": [],
   "source": []
  },
  {
   "cell_type": "code",
   "execution_count": null,
   "id": "93c89a4d",
   "metadata": {},
   "outputs": [],
   "source": [
    "\n"
   ]
  },
  {
   "cell_type": "code",
   "execution_count": null,
   "id": "cbb2f558",
   "metadata": {},
   "outputs": [],
   "source": [
    "\n"
   ]
  },
  {
   "cell_type": "code",
   "execution_count": null,
   "id": "bf2c5907",
   "metadata": {},
   "outputs": [],
   "source": []
  },
  {
   "cell_type": "code",
   "execution_count": null,
   "id": "a1ef4779",
   "metadata": {},
   "outputs": [],
   "source": [
    "\n"
   ]
  },
  {
   "cell_type": "code",
   "execution_count": null,
   "id": "1f954b4e",
   "metadata": {},
   "outputs": [],
   "source": []
  },
  {
   "cell_type": "code",
   "execution_count": null,
   "id": "e3da1956",
   "metadata": {},
   "outputs": [],
   "source": []
  },
  {
   "cell_type": "code",
   "execution_count": null,
   "id": "93cc9f11",
   "metadata": {},
   "outputs": [],
   "source": []
  }
 ],
 "metadata": {
  "kernelspec": {
   "display_name": "Python 3 (ipykernel)",
   "language": "python",
   "name": "python3"
  },
  "language_info": {
   "codemirror_mode": {
    "name": "ipython",
    "version": 3
   },
   "file_extension": ".py",
   "mimetype": "text/x-python",
   "name": "python",
   "nbconvert_exporter": "python",
   "pygments_lexer": "ipython3",
   "version": "3.10.2"
  }
 },
 "nbformat": 4,
 "nbformat_minor": 5
}
